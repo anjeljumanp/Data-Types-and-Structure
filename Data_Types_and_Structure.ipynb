{
  "nbformat": 4,
  "nbformat_minor": 0,
  "metadata": {
    "colab": {
      "provenance": []
    },
    "kernelspec": {
      "name": "python3",
      "display_name": "Python 3"
    },
    "language_info": {
      "name": "python"
    }
  },
  "cells": [
    {
      "cell_type": "markdown",
      "source": [
        "# **Data Types and Structures Questions**"
      ],
      "metadata": {
        "id": "KpoX6KiiMzhW"
      }
    },
    {
      "cell_type": "markdown",
      "source": [
        "1. What are data structures, and why are they important?\n",
        " - Data structures in Python are specialized formats or containers used to store and organize data efficiently.\n",
        " - They provide various ways to store, access, and manipulate data according to specific needs.\n",
        "    1. Data Handling\n",
        "   Programming always involves working with data, which can be numbers, text, images, or more complex information. Data structures act like specialized containers that help us store and manage this data efficiently.\n",
        "\n",
        "    2. Organization\n",
        "   Just like we use shelves, drawers, or containers at home to keep things organized, in programming we use different data structures to organize different types of data.\n",
        "\n",
        "    3. Efficiency\n",
        "   The choice of data structure directly affects how quickly we can access, modify, and process data. Using the right structure is crucial for writing efficient code.\n",
        "\n",
        "    4. Flexibility\n",
        "   Different data structures serve different purposes. Some are ideal for storing large amounts of data, while others are optimized for quick searching, sorting, or retrieval.\n",
        "\n",
        "    5. Built-in Tools\n",
        "   Python offers a rich set of built-in data structures—like lists, sets, dictionaries, and tuples—that make it easier for programmers to manage data without starting from scratch.\n",
        "\n",
        "    6. Real-World Analogy\n",
        "   Think of data structures as tools in a toolbox:\n",
        "\n",
        "   * To organize books → use a **bookshelf** (like a **list**).\n",
        "   * To keep unique items → use a **display case** (like a **set**).\n",
        "   * To look up meanings of words → use a **dictionary** (like Python’s **dict**).\n",
        "\n",
        "    7. Custom Data Structures\n",
        "   Besides built-in ones, Python allows us to create **custom data structures** for specific needs—just like crafting your own container to store something special.\n",
        "\n"
      ],
      "metadata": {
        "id": "KI-7pJd-vwCI"
      }
    },
    {
      "cell_type": "markdown",
      "source": [
        "2. Explain the diffrence between mutable and immutable data types with examples.\n",
        "- Mutable Data Types: Objects whose values can be changed or modified after they are created. We can update, add, or remove elements without creating a new object.\n",
        "\n",
        "  - Examples in Python:\n",
        "  - List → [1, 2, 3]\n",
        "  - Dictionary → {\"a\": 1, \"b\": 2}\n",
        "  - Set → {1, 2, 3}\n",
        " - Immutable Data Types:Objects whose values cannot be changed after they are created\n",
        "   - Example: Tuples, string\n"
      ],
      "metadata": {
        "id": "HzVi17m2xU4g"
      }
    },
    {
      "cell_type": "code",
      "source": [
        "#Mutable Data Type\n",
        "my_list = [10, 20, 30]\n",
        "my_list[1] = 40   # changing the second element\n",
        "print(my_list)    # Output: [10, 40, 30]\n",
        "\n",
        "\n",
        "#Immutable data type\n",
        "my_tuple = (1, 2, 3)\n",
        "# Trying to change an element\n",
        "my_tuple[0] = 100   # This will through an error"
      ],
      "metadata": {
        "colab": {
          "base_uri": "https://localhost:8080/"
        },
        "id": "PhJmoXS0ycgH",
        "outputId": "0baf9538-f08d-490d-c2e9-4e03388d1d41"
      },
      "execution_count": null,
      "outputs": [
        {
          "output_type": "stream",
          "name": "stdout",
          "text": [
            "[10, 40, 30]\n"
          ]
        }
      ]
    },
    {
      "cell_type": "markdown",
      "source": [
        "3. What are the main differences between lists and tuples in Python?\n",
        " - **List**\n",
        "   - Mutable → elements can be changed.\n",
        "   - Uses square brackets [ ]\n",
        "   - Supports adding, removing, and updating elements.\n",
        "   - Used when data needs frequent changes.\n",
        "   - Example: my_list = [1, 2, 3]\n",
        " - **Tuples**\n",
        "   - Immutable → elements cannot be changed.\n",
        "   - Uses parentheses ( )\n",
        "   - Does not allow modification once created.\n",
        "   - Used when data should remain constant.\n",
        "   - Example: my_tuple = (1, 2, 3)"
      ],
      "metadata": {
        "id": "rU3O-Zs8z5B4"
      }
    },
    {
      "cell_type": "markdown",
      "source": [
        "4. Describe how dictionaries store data.\n",
        "\n",
        " - **Key Value Pairs**: A dictionary stores data as key : value.\n",
        "   - Example: student = {\"name\": \"Rahul\", \"age\": 20}\n",
        "   - Here \"name\" is the key and \"Rahul\" is the value.\\\n",
        " - **Unique Keys**: Keys must be unique. If the same key is used again, the old value is replaced.\n",
        " - **Order**: From Python 3.7 onwards, dictionaries remember the order in which items are added.\n",
        " -**Fast Access**: Python uses hashing to store keys. This makes finding values using keys very fast.\n",
        " - **Mutable**: It can add, remove, or change items in a dictionary.\n",
        " - **Flexible Values**: Values can be numbers, strings, lists, or even another dictionary."
      ],
      "metadata": {
        "id": "oVgOuigR1dPt"
      }
    },
    {
      "cell_type": "markdown",
      "source": [
        "5. Why might you use a set instead of a list in Python?\n",
        " - A set automatically removes duplicate values.\n",
        "   - Example:\n",
        "        my_list = [1, 2, 2, 3]\n",
        "        my_set = set(my_list)\n",
        "        print(my_set)  # Output: {1, 2, 3}\n",
        " - Sets use hashing, so checking if an item exists (in operator) is much faster than in a list.\n",
        " - Sets support operations like union, intersection, and difference, which lists don’t do directly.\n",
        " - Sets are unordered, so they are useful when you only care about unique items, not their order.\n"
      ],
      "metadata": {
        "id": "8A8Ik0uOTjsv"
      }
    },
    {
      "cell_type": "markdown",
      "source": [
        "6. What is a string in Python, and how is it different from a list?\n",
        "  - Sets are collections of unique and unordered elements.\n",
        "  - They don’t allow duplicate elements and are represented by curly braces {} in Python.\n",
        "  - Sets don’t maintain order, so elements aren’t accessed using indexes.\n",
        "  - ensure that each element is unique within the set.\n",
        "\n",
        "  - Type of Elements\n",
        "     - String : Stores only characters (letters, numbers, symbols as text).\n",
        "     - List : Can store different data types (numbers, strings, other lists, etc.).\n",
        "  - Mutability\n",
        "     - String : Immutable → cannot be changed after creation.\n",
        "     - List : Mutable → can be changed (add, remove, update).\n",
        "  - Syntax\n",
        "     - String : Written in quotes → \"Hello\".\n",
        "     - List : Written in square brackets → [1, 2, 3].\n",
        "  - Modification\n",
        "     - String : To “change” a string, Python creates a new one.\n",
        "     - List : You can directly change elements.\n",
        "  - Methods\n",
        "     - String : Has text-related methods → upper(), lower(), replace(), split().\n",
        "     - List : Has list-related methods → append(), remove(), sort(), extend()."
      ],
      "metadata": {
        "id": "NBndhPmr_otb"
      }
    },
    {
      "cell_type": "markdown",
      "source": [
        "7. How do tuples ensure data integrity in Python?\n",
        " - Immutability: Tuples are immutable, meaning once they are created, their elements cannot be changed, added, or removed. This prevents accidental modification of data.\n",
        " - Fixed Structure: Since the data inside a tuple cannot be altered, the structure stays consistent throughout the program.\n",
        " - Hashable: Tuples can be used as dictionary keys or elements of a set because their immutability makes them reliable and stable.\n",
        " - Safe Data Sharing: When data is stored in a tuple and passed between functions, you are sure that the original data will not be modified anywhere else."
      ],
      "metadata": {
        "id": "OXZhiuj2CEqE"
      }
    },
    {
      "cell_type": "markdown",
      "source": [
        "8. What is a hash table, and how does it relate to dictionaries in Python?\n",
        "  - A hash table is a data structure that stores data in key–value pairs.\n",
        "  - It uses a process called hashing, where a hash function converts each key into a unique number (called a hash value).\n",
        "  - This hash value decides where the value will be stored in memory, making lookup and retrieval very fast (almost O(1)).\n",
        "  - In Python, a dictionary (dict) is implemented using a hash table.\n",
        "  - The keys of a dictionary are hashed, and the resulting hash values determine where the corresponding values are stored.\n",
        "  - This is why dictionary operations like search, insert, and delete are very fast.\n",
        "  - Example in Python:\n",
        "    my_dict = {\"name\": \"Anu\", \"age\": 21, \"city\": \"Delhi\"}\n",
        "    print(my_dict[\"name\"])   # Fast lookup using hashing → \"Anu\"\n",
        "\n"
      ],
      "metadata": {
        "id": "84_QXYPvC8wF"
      }
    },
    {
      "cell_type": "markdown",
      "source": [
        "9. Can lists contain different data types in Python?\n",
        "  - Yes. A list can hold elements of different data types (integers, strings, floats, objects, etc.).\n",
        "  - Example: mixed_list = [10, \"hello\", 3.14, True]"
      ],
      "metadata": {
        "id": "W_dbx0yOEmsn"
      }
    },
    {
      "cell_type": "markdown",
      "source": [
        "10. Exaplain why are strings immutable in Python?\n",
        "   - Strings in Python are immutable, meaning once it create a string, it cannot change its characters directly.\n",
        "   - If we try to modify it, Python will create a new string instead.\n",
        "   - This immutability is important because it makes strings safe to use in memory and allows them to be used as keys in dictionaries.\n",
        "   - It also helps improve performance when strings are reused, since Python can store and reuse the same string in memory instead of creating multiple copies."
      ],
      "metadata": {
        "id": "QErfBqK1E9zk"
      }
    },
    {
      "cell_type": "markdown",
      "source": [
        "11. What advantages do dictionaries offer over lists for certain tasks?\n",
        "  - Dictionaries are more powerful than lists in situations where we want to quickly look up data using a meaningful key.\n",
        "  - Unlike lists, which require you to search by index or loop through values, dictionaries provide fast, direct access through keys.\n",
        "  - Operations like searching, inserting, or deleting items are on average O(1) time.\n",
        "  - For example, To store a student’s details, using a dictionary makes it easier: student = {\"name\": \"Anu\", \"age\": 21, \"marks\": 85}\n"
      ],
      "metadata": {
        "id": "vlQPMG9dFjtr"
      }
    },
    {
      "cell_type": "markdown",
      "source": [
        "12. Describe a scenario where using a tuple would be preferable over a list.\n",
        "   - Tuples are immutable, meaning once created, their contents cannot be changed. This makes them ideal for storing fixed collections of data where modification is not allowed.\n",
        "   - It can store heterogeneous data.\n",
        "   - Only immutable objects can be used as dictionary keys or set elements in Python. Lists cannot be used, but tuples can.\n",
        "  "
      ],
      "metadata": {
        "id": "isTmO-V1G8Zv"
      }
    },
    {
      "cell_type": "markdown",
      "source": [
        "13. How do sets handle duplicate values in Python?\n",
        "  - Sets are special collections in Python that automatically remove duplicate values. If we try to add the same value more than once, the set will keep only one copy.\n",
        "  - Example: s = {1, 2, 2, 3, 3, 3}\n",
        "                print(s)   # Output: {1, 2, 3}\n"
      ],
      "metadata": {
        "id": "cPA37-CXH1x9"
      }
    },
    {
      "cell_type": "markdown",
      "source": [
        "14. How does the “in” keyword work differently for lists and dictionaries?\n",
        "  - In a list, the 'in' keyword checks whether a value exists among the elements.\n",
        "  - Example: nums = [1, 2, 3] print(2 in nums)   # True\n",
        "  - In a dictionary, the 'in' keyword checks for the existence of a key, not a value.\n",
        "  - Example: student = {\"name\": \"Anu\", \"age\": 21}\n",
        "             print(\"name\" in student)  # True\n",
        "            print(21 in student)      # False\n",
        "  - in looks for values in lists but for keys in dictionaries."
      ],
      "metadata": {
        "id": "QIGBPVlMIMQw"
      }
    },
    {
      "cell_type": "markdown",
      "source": [
        "15. Can you modify the elements of a tuple? Explain why or why not.\n",
        "  - No, we cannot modify the elements of a tuple because tuples are immutable in Python. This means you cannot add, remove, or change values inside a tuple once it is created.\n",
        "  - For example: t = (1, 2, 3)\n",
        "                 t[0] = 100   \n",
        "                 # Error: 'tuple' object does not support item assignment"
      ],
      "metadata": {
        "id": "tY6XpjvqI9QA"
      }
    },
    {
      "cell_type": "markdown",
      "source": [
        "16. What is a nested dictionary, and give an example of its use case.\n",
        "  - Nested Dictionaries:  Dictionaries can contain other dictionaries as values, forming nested structures.\n",
        "  -  These nested dictionaries can be accessed and manipulated just like any other dictionary.\n",
        "  - Example: students = {\n",
        "    \"101\": {\"name\": \"Anu\", \"age\": 20},\n",
        "    \"102\": {\"name\": \"Ravi\", \"age\": 22}\n",
        "}\n"
      ],
      "metadata": {
        "id": "eUE-yAGTJV-B"
      }
    },
    {
      "cell_type": "markdown",
      "source": [
        "17. Describe the time complexity of accessing elements in a dictionary.\n",
        "  - Accessing elements in a dictionary is O(1) on average, meaning it takes constant time regardless of the dictionary’s size.\n",
        "  - This efficiency is because dictionaries use hash tables internally.\n",
        "  - However, in rare cases of hash collisions, the time complexity may degrade to O(n). Still, Python optimizes hashing, so access is usually very fast."
      ],
      "metadata": {
        "id": "l4uZBveGJ4CC"
      }
    },
    {
      "cell_type": "markdown",
      "source": [
        "18. In what situations are lists preferred over dictionaries?\n",
        "  - When the order of elements matters (lists keep items in sequence).\n",
        "  - When we only need values, not key–value pairs.\n",
        "  - When working with similar types of data (like numbers or names).\n",
        "  - When we need index-based access (e.g., 1st item, 2nd item).\n",
        "  - When we want to use operations like sorting, slicing, or reversing.\n",
        "  - When we want to save memory (lists are lighter than dictionaries)."
      ],
      "metadata": {
        "id": "EWeaJiPlKLYv"
      }
    },
    {
      "cell_type": "markdown",
      "source": [
        "19.  Why are Dictionaries Considered Unordered, and How Does That Affect Data Retrieval?\n",
        "  - Dictionaries in Python are considered unordered collections because they do not store elements in a fixed sequence like lists.\n",
        "  - Instead, dictionaries use a hash table internally.\n",
        "  - Each key is converted into a hash value, and that hash determines where the corresponding value is stored in memory.\n",
        "  - The items are not stored in the order you add them (though in recent versions of Python, insertion order is preserved for convenience, but logically, dictionaries are still treated as unordered).\n",
        "  - We cannot access values by position or index like in a list (dict[0]).\n",
        "  - The only reliable way to retrieve data is by using the key."
      ],
      "metadata": {
        "id": "BLPJiKX1Kwb-"
      }
    },
    {
      "cell_type": "markdown",
      "source": [],
      "metadata": {
        "id": "mH7sTKLlLmsu"
      }
    },
    {
      "cell_type": "markdown",
      "source": [
        "20. Difference Between a List and a Dictionary in Terms of Data Retrieval\n",
        "  - List\n",
        "    - Data is retrieved using a numeric index (position of the element).\n",
        "    - The first element is at index 0, the second at index 1, and so on.\n",
        "    - Example: marks = [45, 50, 60]\n",
        "               print(marks[1])   # 50 → retrieved by position\n",
        "  \n",
        "  - Dictionary\n",
        "    - Data is retrieved using a key (a meaningful name/identifier).\n",
        "    - we don’t need to know the position of the item, only the key.\n",
        "    - Example: student = {\"name\": \"Anu\", \"age\": 21}\n",
        "               print(student[\"name\"])   # \"Anu\" → retrieved by key\n"
      ],
      "metadata": {
        "id": "65u-XttFLmwM"
      }
    },
    {
      "cell_type": "markdown",
      "source": [
        "## **Practical Questions**"
      ],
      "metadata": {
        "id": "vbzLPxSSMfGx"
      }
    },
    {
      "cell_type": "markdown",
      "source": [
        "1. Write a code to create a string with your name and print it."
      ],
      "metadata": {
        "id": "vtheHMCcNDJe"
      }
    },
    {
      "cell_type": "code",
      "source": [
        "# Creating a string with my name\n",
        "name = \"Anjel\"\n",
        "print(name)\n",
        "type(name)\n"
      ],
      "metadata": {
        "colab": {
          "base_uri": "https://localhost:8080/"
        },
        "id": "k6yIuGHANIeX",
        "outputId": "56eb6070-0008-4cd6-b4e2-40f2b1612d08"
      },
      "execution_count": null,
      "outputs": [
        {
          "output_type": "stream",
          "name": "stdout",
          "text": [
            "Anjel\n"
          ]
        },
        {
          "output_type": "execute_result",
          "data": {
            "text/plain": [
              "str"
            ]
          },
          "metadata": {},
          "execution_count": 7
        }
      ]
    },
    {
      "cell_type": "markdown",
      "source": [
        "2. Write a code to find the length of the string \"Hello World\"."
      ],
      "metadata": {
        "id": "Tqe6U0PhYxZO"
      }
    },
    {
      "cell_type": "code",
      "source": [
        "text = \"Hello World\"\n",
        "len(text)\n",
        "\n",
        "#or\n",
        "\n",
        "text = \"Hello World\"\n",
        "print(len(text))"
      ],
      "metadata": {
        "colab": {
          "base_uri": "https://localhost:8080/"
        },
        "id": "Adih2Hf-Y3FX",
        "outputId": "8c887f41-527e-49f0-c098-898a524138ae"
      },
      "execution_count": null,
      "outputs": [
        {
          "output_type": "stream",
          "name": "stdout",
          "text": [
            "11\n"
          ]
        }
      ]
    },
    {
      "cell_type": "markdown",
      "source": [
        "3. Write a code to slice the first 3 characters from the string \"Python Programming\".\n"
      ],
      "metadata": {
        "id": "Bfz8QNadZfdg"
      }
    },
    {
      "cell_type": "code",
      "source": [
        "string1 = \"Python Progarmming\"\n",
        "string1 [0:3]"
      ],
      "metadata": {
        "colab": {
          "base_uri": "https://localhost:8080/",
          "height": 35
        },
        "id": "HHkM4TFnZloy",
        "outputId": "9e07ff12-c3b8-4e6a-fe54-de6463e62520"
      },
      "execution_count": null,
      "outputs": [
        {
          "output_type": "execute_result",
          "data": {
            "text/plain": [
              "'Pyt'"
            ],
            "application/vnd.google.colaboratory.intrinsic+json": {
              "type": "string"
            }
          },
          "metadata": {},
          "execution_count": 12
        }
      ]
    },
    {
      "cell_type": "markdown",
      "source": [
        "4. Write a code to convert the string \"hello\" to uppercase."
      ],
      "metadata": {
        "id": "wOEywh3-aYfX"
      }
    },
    {
      "cell_type": "code",
      "source": [
        "str1 = \"hello\"\n",
        "str1.upper()"
      ],
      "metadata": {
        "colab": {
          "base_uri": "https://localhost:8080/",
          "height": 35
        },
        "id": "2jngVamNam4K",
        "outputId": "4adf4439-2237-4ad3-8535-b6202cf5ca60"
      },
      "execution_count": null,
      "outputs": [
        {
          "output_type": "execute_result",
          "data": {
            "text/plain": [
              "'HELLO'"
            ],
            "application/vnd.google.colaboratory.intrinsic+json": {
              "type": "string"
            }
          },
          "metadata": {},
          "execution_count": 14
        }
      ]
    },
    {
      "cell_type": "markdown",
      "source": [
        "5. Write a code to replace the word \"apple\" with \"orange\" in the string \"I like apple\"."
      ],
      "metadata": {
        "id": "Fa39BR_ea75N"
      }
    },
    {
      "cell_type": "code",
      "source": [
        "text = \"I like apple\"\n",
        "text.replace(\"apple\", \"orange\")"
      ],
      "metadata": {
        "colab": {
          "base_uri": "https://localhost:8080/",
          "height": 35
        },
        "id": "QGZjpjv0bCbu",
        "outputId": "fc1a981e-1593-4d39-9081-be7889c95d9c"
      },
      "execution_count": null,
      "outputs": [
        {
          "output_type": "execute_result",
          "data": {
            "text/plain": [
              "'I like orange'"
            ],
            "application/vnd.google.colaboratory.intrinsic+json": {
              "type": "string"
            }
          },
          "metadata": {},
          "execution_count": 15
        }
      ]
    },
    {
      "cell_type": "markdown",
      "source": [
        "6. Write a code to create a list with numbers 1 to 5 and print it."
      ],
      "metadata": {
        "id": "zwOt_tU-b2F5"
      }
    },
    {
      "cell_type": "code",
      "source": [
        "list(range(1, 6))\n",
        "\n",
        "#or\n",
        "\n",
        "numbers = list(range(1, 6))\n",
        "print(numbers)"
      ],
      "metadata": {
        "colab": {
          "base_uri": "https://localhost:8080/"
        },
        "id": "bp2TzBeBb4d1",
        "outputId": "a3a60c14-4d74-4c58-edd7-2b31402646d0"
      },
      "execution_count": null,
      "outputs": [
        {
          "output_type": "stream",
          "name": "stdout",
          "text": [
            "[1, 2, 3, 4, 5]\n"
          ]
        }
      ]
    },
    {
      "cell_type": "markdown",
      "source": [
        "7. Write a code to append the number 10 to the list [1, 2, 3, 4]."
      ],
      "metadata": {
        "id": "9wvOqZjmcOrf"
      }
    },
    {
      "cell_type": "code",
      "source": [
        "list1 = [1, 2, 3, 4]\n",
        "list1.append(10)\n",
        "list1"
      ],
      "metadata": {
        "colab": {
          "base_uri": "https://localhost:8080/"
        },
        "id": "HG0EFu6WcVXU",
        "outputId": "9777d753-e936-4136-df33-3b73f3e32ba3"
      },
      "execution_count": null,
      "outputs": [
        {
          "output_type": "execute_result",
          "data": {
            "text/plain": [
              "[1, 2, 3, 4, 10]"
            ]
          },
          "metadata": {},
          "execution_count": 21
        }
      ]
    },
    {
      "cell_type": "markdown",
      "source": [
        "8. Write a code to remove the number 3 from the list [1, 2, 3, 4, 5].\n"
      ],
      "metadata": {
        "id": "mS5-OVvhzc7V"
      }
    },
    {
      "cell_type": "code",
      "source": [
        "lis = [1, 2, 3, 4]\n",
        "lis.remove(3)\n",
        "lis"
      ],
      "metadata": {
        "colab": {
          "base_uri": "https://localhost:8080/"
        },
        "id": "i_-SBJvqzoj1",
        "outputId": "195d4091-0bc8-418c-87a8-eeef8fbf4dc1"
      },
      "execution_count": null,
      "outputs": [
        {
          "output_type": "execute_result",
          "data": {
            "text/plain": [
              "[1, 2, 4]"
            ]
          },
          "metadata": {},
          "execution_count": 1
        }
      ]
    },
    {
      "cell_type": "markdown",
      "source": [
        "9. Write a code to access the second element in the list ['a', 'b', 'c', 'd']."
      ],
      "metadata": {
        "id": "3lJHnOzTz0Oi"
      }
    },
    {
      "cell_type": "code",
      "source": [
        "lis1 = ['a', 'b', 'c', 'd']\n",
        "lis1[1]"
      ],
      "metadata": {
        "colab": {
          "base_uri": "https://localhost:8080/",
          "height": 35
        },
        "id": "wZfphmZKz-FJ",
        "outputId": "88ec54c8-ac42-4d38-a556-cd987334c6e3"
      },
      "execution_count": null,
      "outputs": [
        {
          "output_type": "execute_result",
          "data": {
            "text/plain": [
              "'b'"
            ],
            "application/vnd.google.colaboratory.intrinsic+json": {
              "type": "string"
            }
          },
          "metadata": {},
          "execution_count": 2
        }
      ]
    },
    {
      "cell_type": "markdown",
      "source": [
        "10. Write a code to reverse the list [10, 20, 30, 40, 50]."
      ],
      "metadata": {
        "id": "oYn1UEhI0EWd"
      }
    },
    {
      "cell_type": "code",
      "source": [
        "lis2 = [10, 20, 30, 40, 50]\n",
        "lis2.reverse()\n",
        "lis2"
      ],
      "metadata": {
        "colab": {
          "base_uri": "https://localhost:8080/"
        },
        "id": "NHFF_Rc30E17",
        "outputId": "f816f9f7-559d-4d71-9e58-6f5c2e56dc29"
      },
      "execution_count": null,
      "outputs": [
        {
          "output_type": "execute_result",
          "data": {
            "text/plain": [
              "[50, 40, 30, 20, 10]"
            ]
          },
          "metadata": {},
          "execution_count": 3
        }
      ]
    },
    {
      "cell_type": "markdown",
      "source": [
        "11.  Write a code to create a tuple with the elements 100, 200, 300 and print it."
      ],
      "metadata": {
        "id": "oofGu6jk0Fnn"
      }
    },
    {
      "cell_type": "code",
      "source": [
        "t = (100, 200, 300)\n",
        "print(t)\n",
        "type(t)"
      ],
      "metadata": {
        "colab": {
          "base_uri": "https://localhost:8080/"
        },
        "id": "d_scOIuj0GIj",
        "outputId": "d32a8f88-1174-4b63-b82f-180918230cc3"
      },
      "execution_count": null,
      "outputs": [
        {
          "output_type": "stream",
          "name": "stdout",
          "text": [
            "(100, 200, 300)\n"
          ]
        },
        {
          "output_type": "execute_result",
          "data": {
            "text/plain": [
              "tuple"
            ]
          },
          "metadata": {},
          "execution_count": 5
        }
      ]
    },
    {
      "cell_type": "markdown",
      "source": [
        "12. Write a code to access the second-to-last element of the tuple ('red', 'green', 'blue', 'yellow')."
      ],
      "metadata": {
        "id": "0T4zNm3p1KZy"
      }
    },
    {
      "cell_type": "code",
      "source": [
        "t1 = (\"red\", \"green\", \"blue\", \"yellow\")\n",
        "t1[1:4]"
      ],
      "metadata": {
        "colab": {
          "base_uri": "https://localhost:8080/"
        },
        "id": "yP-7sSNU1RIp",
        "outputId": "64769b61-9384-4acc-acc6-3c6c0a475254"
      },
      "execution_count": null,
      "outputs": [
        {
          "output_type": "execute_result",
          "data": {
            "text/plain": [
              "('green', 'blue', 'yellow')"
            ]
          },
          "metadata": {},
          "execution_count": 7
        }
      ]
    },
    {
      "cell_type": "markdown",
      "source": [
        "13. Write a code to find the minimum number in the tuple (10, 20, 5, 15)."
      ],
      "metadata": {
        "id": "vOa0PEQ_2FyP"
      }
    },
    {
      "cell_type": "code",
      "source": [
        "t2 = (10, 20, 5, 15)\n",
        "min(t2)"
      ],
      "metadata": {
        "colab": {
          "base_uri": "https://localhost:8080/"
        },
        "id": "cDgU5-o42LyF",
        "outputId": "1bbbde11-a592-4b9d-e596-7a2f37c78b4b"
      },
      "execution_count": null,
      "outputs": [
        {
          "output_type": "execute_result",
          "data": {
            "text/plain": [
              "5"
            ]
          },
          "metadata": {},
          "execution_count": 8
        }
      ]
    },
    {
      "cell_type": "markdown",
      "source": [
        "14. Write a code to find the index of the element \"cat\" in the tuple ('dog', 'cat', 'rabbit')."
      ],
      "metadata": {
        "id": "1z1dTb1v2ctI"
      }
    },
    {
      "cell_type": "code",
      "source": [
        "tuple1 = (\"dog\", \"cat\", \"rabbit\")\n",
        "tuple1.index(\"cat\")"
      ],
      "metadata": {
        "colab": {
          "base_uri": "https://localhost:8080/"
        },
        "id": "YToOoiSJ2hGv",
        "outputId": "66b4501a-ba2e-48fa-991b-762f53abac78"
      },
      "execution_count": null,
      "outputs": [
        {
          "output_type": "execute_result",
          "data": {
            "text/plain": [
              "1"
            ]
          },
          "metadata": {},
          "execution_count": 9
        }
      ]
    },
    {
      "cell_type": "markdown",
      "source": [
        "15. Write a code to create a tuple containing three different fruits and check if \"kiwi\" is in it."
      ],
      "metadata": {
        "id": "-wTjganN2-RF"
      }
    },
    {
      "cell_type": "code",
      "source": [
        "tuple2 = (\"apple\", \"banana\", \"orange\")\n",
        "\"kiwi\" in tuple2\n",
        "\n"
      ],
      "metadata": {
        "colab": {
          "base_uri": "https://localhost:8080/"
        },
        "id": "zSbGNsb53dSN",
        "outputId": "429f9d46-3b50-402e-80d3-9783625c5537"
      },
      "execution_count": null,
      "outputs": [
        {
          "output_type": "execute_result",
          "data": {
            "text/plain": [
              "False"
            ]
          },
          "metadata": {},
          "execution_count": 10
        }
      ]
    },
    {
      "cell_type": "code",
      "source": [
        "tuple3 = (\"apple\", \"banana\", \"kiwi\")\n",
        "\"kiwi\" in tuple3\n",
        "\n"
      ],
      "metadata": {
        "colab": {
          "base_uri": "https://localhost:8080/"
        },
        "id": "5HqMDs1L3n8c",
        "outputId": "862ae0b8-1348-4f86-c790-e85c6493edf9"
      },
      "execution_count": null,
      "outputs": [
        {
          "output_type": "execute_result",
          "data": {
            "text/plain": [
              "True"
            ]
          },
          "metadata": {},
          "execution_count": 11
        }
      ]
    },
    {
      "cell_type": "markdown",
      "source": [
        "16. Write a code to create a set with the elements 'a', 'b', 'c' and print it."
      ],
      "metadata": {
        "id": "YShd1O9A3tI9"
      }
    },
    {
      "cell_type": "code",
      "source": [
        "s = {\"a\", \"b\", \"c\"}\n",
        "s"
      ],
      "metadata": {
        "colab": {
          "base_uri": "https://localhost:8080/"
        },
        "id": "pyMep34e30tm",
        "outputId": "7968a0bf-e0bd-4a06-bbf1-4e9721b70c2c"
      },
      "execution_count": null,
      "outputs": [
        {
          "output_type": "execute_result",
          "data": {
            "text/plain": [
              "{'a', 'b', 'c'}"
            ]
          },
          "metadata": {},
          "execution_count": 12
        }
      ]
    },
    {
      "cell_type": "markdown",
      "source": [
        "17. Write a code to clear all elements from the set {1, 2, 3, 4, 5}."
      ],
      "metadata": {
        "id": "dG76nOmx4BRU"
      }
    },
    {
      "cell_type": "code",
      "source": [
        "set1 = {1, 2, 3, 4, 5}\n",
        "set1.clear()\n",
        "set1"
      ],
      "metadata": {
        "colab": {
          "base_uri": "https://localhost:8080/"
        },
        "id": "aZ2SnaX64HPw",
        "outputId": "ff1fcb3c-b082-4f3b-bd9b-768e815f2c6e"
      },
      "execution_count": null,
      "outputs": [
        {
          "output_type": "execute_result",
          "data": {
            "text/plain": [
              "set()"
            ]
          },
          "metadata": {},
          "execution_count": 15
        }
      ]
    },
    {
      "cell_type": "markdown",
      "source": [
        "18. Write a code to remove the element 4 from the set {1, 2, 3, 4}."
      ],
      "metadata": {
        "id": "FlwboM7m4XwY"
      }
    },
    {
      "cell_type": "code",
      "source": [
        "set2 = {1, 2, 3, 4}\n",
        "set2.remove(4)\n",
        "set2"
      ],
      "metadata": {
        "colab": {
          "base_uri": "https://localhost:8080/"
        },
        "id": "PGAExnHJ4fLT",
        "outputId": "a7228395-4020-475c-f21b-54404dc916ed"
      },
      "execution_count": null,
      "outputs": [
        {
          "output_type": "execute_result",
          "data": {
            "text/plain": [
              "{1, 2, 3}"
            ]
          },
          "metadata": {},
          "execution_count": 16
        }
      ]
    },
    {
      "cell_type": "markdown",
      "source": [
        "19. Write a code to find the union of two sets {1, 2, 3} and {3, 4, 5}."
      ],
      "metadata": {
        "id": "GkVuNiXc4js3"
      }
    },
    {
      "cell_type": "code",
      "source": [
        "s1 = {1, 2, 3}\n",
        "s2 = {3, 4, 5}\n",
        "s1 | s2"
      ],
      "metadata": {
        "colab": {
          "base_uri": "https://localhost:8080/"
        },
        "id": "w9SzOXkl4ns1",
        "outputId": "54de89ef-a0c9-4520-9141-f79d5cb96987"
      },
      "execution_count": null,
      "outputs": [
        {
          "output_type": "execute_result",
          "data": {
            "text/plain": [
              "{1, 2, 3, 4, 5}"
            ]
          },
          "metadata": {},
          "execution_count": 18
        }
      ]
    },
    {
      "cell_type": "markdown",
      "source": [
        "20.  Write a code to find the intersection of two sets {1, 2, 3} and {2, 3, 4}."
      ],
      "metadata": {
        "id": "EapHz8Rx5Hma"
      }
    },
    {
      "cell_type": "code",
      "source": [
        "set1 = {1, 2, 3}\n",
        "set2 = {2, 3, 4}\n",
        "set1 & set2"
      ],
      "metadata": {
        "colab": {
          "base_uri": "https://localhost:8080/"
        },
        "id": "HHSNeqo25I9s",
        "outputId": "8c4e7cf3-b2af-42cf-a472-933f00d8d14d"
      },
      "execution_count": null,
      "outputs": [
        {
          "output_type": "execute_result",
          "data": {
            "text/plain": [
              "{2, 3}"
            ]
          },
          "metadata": {},
          "execution_count": 19
        }
      ]
    },
    {
      "cell_type": "markdown",
      "source": [
        "21. Write a code to create a dictionary with the keys \"name\", \"age\", and \"city\", and print it"
      ],
      "metadata": {
        "id": "3R7k3jFr5Rco"
      }
    },
    {
      "cell_type": "code",
      "source": [
        "d = {\"name\": \"Anu\", \"age\": 21, \"city\": \"Delhi\"}\n",
        "d\n"
      ],
      "metadata": {
        "colab": {
          "base_uri": "https://localhost:8080/"
        },
        "id": "sc5je9wl5ZQs",
        "outputId": "f6b7f582-8ca9-4308-be5a-c0916071735c"
      },
      "execution_count": null,
      "outputs": [
        {
          "output_type": "execute_result",
          "data": {
            "text/plain": [
              "{'name': 'Anu', 'age': 21, 'city': 'Delhi'}"
            ]
          },
          "metadata": {},
          "execution_count": 24
        }
      ]
    },
    {
      "cell_type": "markdown",
      "source": [
        "22. Write a code to add a new key-value pair \"country\": \"USA\" to the dictionary {'name': 'John', 'age': 25}"
      ],
      "metadata": {
        "id": "Z_1Z-KUg5vc6"
      }
    },
    {
      "cell_type": "code",
      "source": [
        "dict1 = {'name': 'John', 'age': 25}\n",
        "dict1[\"country\"] = \"USA\"\n",
        "dict1"
      ],
      "metadata": {
        "colab": {
          "base_uri": "https://localhost:8080/"
        },
        "id": "OtA_f2iY51S8",
        "outputId": "f800a411-81da-4070-ab3e-6a6b21e6c5ae"
      },
      "execution_count": null,
      "outputs": [
        {
          "output_type": "execute_result",
          "data": {
            "text/plain": [
              "{'name': 'John', 'age': 25, 'country': 'USA'}"
            ]
          },
          "metadata": {},
          "execution_count": 25
        }
      ]
    },
    {
      "cell_type": "markdown",
      "source": [
        "23.  Write a code to access the value associated with the key \"name\" in the dictionary {'name': 'Alice', 'age': 30}."
      ],
      "metadata": {
        "id": "26vj6DBu6FEe"
      }
    },
    {
      "cell_type": "code",
      "source": [
        "dict2 = {'name': 'Alice', 'age': 30}\n",
        "dict2[\"name\"]"
      ],
      "metadata": {
        "colab": {
          "base_uri": "https://localhost:8080/",
          "height": 35
        },
        "id": "CHYAA9E06Ggp",
        "outputId": "5b7e0311-f31d-4107-e4bc-f7cfd6d78525"
      },
      "execution_count": null,
      "outputs": [
        {
          "output_type": "execute_result",
          "data": {
            "text/plain": [
              "'Alice'"
            ],
            "application/vnd.google.colaboratory.intrinsic+json": {
              "type": "string"
            }
          },
          "metadata": {},
          "execution_count": 26
        }
      ]
    },
    {
      "cell_type": "markdown",
      "source": [
        "24.  Write a code to remove the key \"age\" from the dictionary {'name': 'Bob', 'age': 22, 'city': 'New York'}."
      ],
      "metadata": {
        "id": "9tLfr_1P6UzU"
      }
    },
    {
      "cell_type": "code",
      "source": [
        "d1 = {'name': 'Bob', 'age': 22, 'city': 'New York'}\n",
        "d1.pop(\"age\")\n",
        "d1\n"
      ],
      "metadata": {
        "colab": {
          "base_uri": "https://localhost:8080/"
        },
        "id": "KZIjr-kM6Z9e",
        "outputId": "62390d04-589d-4bb1-bf49-f697f2d5a415"
      },
      "execution_count": null,
      "outputs": [
        {
          "output_type": "execute_result",
          "data": {
            "text/plain": [
              "{'name': 'Bob', 'city': 'New York'}"
            ]
          },
          "metadata": {},
          "execution_count": 29
        }
      ]
    },
    {
      "cell_type": "markdown",
      "source": [
        "25. Write a code to check if the key \"city\" exists in the dictionary {'name': 'Alice', 'city': 'Paris'}."
      ],
      "metadata": {
        "id": "6o9q7NEj7ERb"
      }
    },
    {
      "cell_type": "code",
      "source": [
        "data = {'name': 'Alice', 'city': 'Paris'}\n",
        "data.get(\"city\")"
      ],
      "metadata": {
        "colab": {
          "base_uri": "https://localhost:8080/",
          "height": 35
        },
        "id": "7oJbMNz-7LVB",
        "outputId": "b2fa908a-36bf-45a7-f3ad-64516ebc326e"
      },
      "execution_count": null,
      "outputs": [
        {
          "output_type": "execute_result",
          "data": {
            "text/plain": [
              "'Paris'"
            ],
            "application/vnd.google.colaboratory.intrinsic+json": {
              "type": "string"
            }
          },
          "metadata": {},
          "execution_count": 31
        }
      ]
    },
    {
      "cell_type": "code",
      "source": [
        "data = {'name': 'Alice', 'city': 'Paris'}\n",
        "'city' in data"
      ],
      "metadata": {
        "colab": {
          "base_uri": "https://localhost:8080/"
        },
        "id": "zrrx17uT8KMV",
        "outputId": "e04e41c4-988e-415b-9e39-ca4e44def86c"
      },
      "execution_count": null,
      "outputs": [
        {
          "output_type": "execute_result",
          "data": {
            "text/plain": [
              "True"
            ]
          },
          "metadata": {},
          "execution_count": 32
        }
      ]
    },
    {
      "cell_type": "markdown",
      "source": [
        "26.  Write a code to create a list, a tuple, and a dictionary, and print them all."
      ],
      "metadata": {
        "id": "btxMmOsA8U17"
      }
    },
    {
      "cell_type": "code",
      "source": [
        "students = (\"Anu\", \"Amal\", \"Mohammed\")\n",
        "marks = [45, 50, 60]\n",
        "{student:marks for student, marks in zip(students, marks)}\n",
        "\n"
      ],
      "metadata": {
        "colab": {
          "base_uri": "https://localhost:8080/"
        },
        "id": "KN7DEfTY8bod",
        "outputId": "f85d222f-ef53-4d68-bf3c-c04ded978089"
      },
      "execution_count": null,
      "outputs": [
        {
          "output_type": "execute_result",
          "data": {
            "text/plain": [
              "{'Anu': 45, 'Amal': 50, 'Mohammed': 60}"
            ]
          },
          "metadata": {},
          "execution_count": 39
        }
      ]
    },
    {
      "cell_type": "markdown",
      "source": [
        "27. Write a code to create a list of 5 random numbers between 1 and 100, sort it in ascending order, and print the result.(replaced)"
      ],
      "metadata": {
        "id": "7WT7bFckAKR_"
      }
    },
    {
      "cell_type": "code",
      "source": [
        "list1 = [23, 8, 65, 32, 11]\n",
        "list1.sort()\n",
        "list1"
      ],
      "metadata": {
        "colab": {
          "base_uri": "https://localhost:8080/"
        },
        "id": "giLTCHRlAb6G",
        "outputId": "22a3e4f6-0528-482a-9433-9eef5ebbacf6"
      },
      "execution_count": null,
      "outputs": [
        {
          "output_type": "execute_result",
          "data": {
            "text/plain": [
              "[8, 11, 23, 32, 65]"
            ]
          },
          "metadata": {},
          "execution_count": 42
        }
      ]
    },
    {
      "cell_type": "markdown",
      "source": [
        "28. Write a code to create a list with strings and print the element at the third index."
      ],
      "metadata": {
        "id": "USbIMKMeBMQZ"
      }
    },
    {
      "cell_type": "code",
      "source": [
        "fruits = [\"apple\", \"banana\", \"cherry\", \"mango\", \"orange\"]\n",
        "fruits[3]"
      ],
      "metadata": {
        "colab": {
          "base_uri": "https://localhost:8080/",
          "height": 35
        },
        "id": "eQ-WPcPsBRzS",
        "outputId": "f1528e27-bd95-457e-899f-7b53bbd70942"
      },
      "execution_count": null,
      "outputs": [
        {
          "output_type": "execute_result",
          "data": {
            "text/plain": [
              "'mango'"
            ],
            "application/vnd.google.colaboratory.intrinsic+json": {
              "type": "string"
            }
          },
          "metadata": {},
          "execution_count": 44
        }
      ]
    },
    {
      "cell_type": "markdown",
      "source": [
        "29. Write a code to combine two dictionaries into one and print the result."
      ],
      "metadata": {
        "id": "gx8PCMx-Bsyv"
      }
    },
    {
      "cell_type": "code",
      "source": [
        "student_info = {\"name\": \"Alice\", \"age\": 21}\n",
        "student_scores = {\"math\": 90, \"science\": 85}\n",
        "\n",
        "student = {**student_info, **student_scores}\n",
        "student\n",
        "\n"
      ],
      "metadata": {
        "colab": {
          "base_uri": "https://localhost:8080/"
        },
        "id": "S1tCi-SlB0FP",
        "outputId": "10edd4c7-3094-4f12-84d0-d9ccccd0a0e4"
      },
      "execution_count": 52,
      "outputs": [
        {
          "output_type": "execute_result",
          "data": {
            "text/plain": [
              "{'name': 'Alice', 'age': 21, 'math': 90, 'science': 85}"
            ]
          },
          "metadata": {},
          "execution_count": 52
        }
      ]
    },
    {
      "cell_type": "markdown",
      "source": [
        "30. Write a code to convert a list of strings into a set."
      ],
      "metadata": {
        "id": "rnP8gv2fC0qM"
      }
    },
    {
      "cell_type": "code",
      "source": [
        "fruits = [\"apple\", \"banana\", \"cherry\", \"apple\", \"banana\"]\n",
        "fruit_basket = set(fruits)\n",
        "fruit_basket"
      ],
      "metadata": {
        "colab": {
          "base_uri": "https://localhost:8080/"
        },
        "id": "ukqxCpGRDQPJ",
        "outputId": "01b35672-2b05-4662-f710-b183f2d1d7e9"
      },
      "execution_count": null,
      "outputs": [
        {
          "output_type": "execute_result",
          "data": {
            "text/plain": [
              "{'apple', 'banana', 'cherry'}"
            ]
          },
          "metadata": {},
          "execution_count": 50
        }
      ]
    }
  ]
}